{
 "cells": [
  {
   "cell_type": "code",
   "execution_count": 2,
   "id": "b87c3d0d",
   "metadata": {},
   "outputs": [],
   "source": [
    "import numpy as np\n",
    "import matplotlib.pyplot as plt"
   ]
  },
  {
   "cell_type": "markdown",
   "id": "7cc0798e",
   "metadata": {},
   "source": [
    "m = 1\n",
    "hbar = 1\n",
    "xmin =-6.5\n",
    "xmax = 6.5\n",
    "N = 1000\n",
    "x = np.linspace(xmin,xmax,N+1)\n",
    "dx = x[1]-x[0]\n",
    "print(dx)"
   ]
  },
  {
   "cell_type": "code",
   "execution_count": 8,
   "id": "0a2a8d4e",
   "metadata": {},
   "outputs": [
    {
     "data": {
      "text/plain": [
       "[<matplotlib.lines.Line2D at 0x7fe740055b50>]"
      ]
     },
     "execution_count": 8,
     "metadata": {},
     "output_type": "execute_result"
    },
    {
     "data": {
      "image/png": "[encoded data removed]",
      "text/plain": [
       "<Figure size 432x288 with 1 Axes>"
      ]
     },
     "metadata": {
      "needs_background": "light"
     },
     "output_type": "display_data"
    }
   ],
   "source": [
    "m = 1\n",
    "hbar = 1\n",
    "xmin =-6.5\n",
    "xmax = 6.5\n",
    "N = 1000\n",
    "x = np.linspace(xmin,xmax,N+1)\n",
    "dx = x[1]-x[0]\n",
    "p = 40\n",
    "V0 = p**2/(2*m)\n",
    "sig = 0.15\n",
    "x0 = 2\n",
    "V = 0*x\n",
    "for i in range(len(V)):\n",
    "    if x[i]>0 and x[i]<0.5:\n",
    "        V[i]=V0\n",
    "#plt.plot(x,V)\n",
    "\n",
    "Psi0 = np.exp( -(x[1:-1]+x0)**2/sig**2)*np.exp(1j*p*(x[1:-1]+x0))\n",
    "A = np.sum(np.abs(Psi0)**2*dx)\n",
    "Psi0 = Psi0/np.sqrt(A)\n",
    "plt.plot(x[1:-1],np.abs(Psi0))"
   ]
  },
  {
   "cell_type": "code",
   "execution_count": 13,
   "id": "d6ddcc31",
   "metadata": {},
   "outputs": [
    {
     "name": "stdout",
     "output_type": "stream",
     "text": [
      "(999, 999)\n"
     ]
    },
    {
     "data": {
      "text/plain": [
       "[<matplotlib.lines.Line2D at 0x7fe74013fd60>]"
      ]
     },
     "execution_count": 13,
     "metadata": {},
     "output_type": "execute_result"
    },
    {
     "data": {
      "image/png": "[encoded data removed]",
      "text/plain": [
       "<Figure size 432x288 with 1 Axes>"
      ]
     },
     "metadata": {
      "needs_background": "light"
     },
     "output_type": "display_data"
    }
   ],
   "source": [
    "H = (hbar**2/(m*dx**2))*np.diag(np.ones(N-1))+V[1:-1]*np.diag(np.ones(N-1))+ (-hbar**2/(2*m*dx**2))*np.diag(np.ones(N-2),1)+ (-hbar**2/(2*m*dx**2))*np.diag(np.ones(N-2),-1)\n",
    "print(H.shape)\n",
    "\n",
    "E,psi = np.linalg.eigh(H)\n",
    "psi = psi.T\n",
    "\n",
    "A = np.sum(np.abs(psi[0])**2*dx)\n",
    "psi = psi/np.sqrt(A)\n",
    "plt.plot(x[1:-1],psi[0])\n",
    "plt.plot(x[1:-1],psi[1])\n",
    "plt.plot(x[1:-1],psi[2])"
   ]
  },
  {
   "cell_type": "code",
   "execution_count": 22,
   "id": "3294e3a5",
   "metadata": {},
   "outputs": [
    {
     "data": {
      "text/html": [
       "<div id=\"glowscript\" class=\"glowscript\"></div>"
      ],
      "text/plain": [
       "<IPython.core.display.HTML object>"
      ]
     },
     "metadata": {},
     "output_type": "display_data"
    },
    {
     "data": {
      "application/javascript": [
       "if (typeof Jupyter !== \"undefined\") { window.__context = { glowscript_container: $(\"#glowscript\").removeAttr(\"id\")};}else{ element.textContent = ' ';}"
      ],
      "text/plain": [
       "<IPython.core.display.Javascript object>"
      ]
     },
     "metadata": {},
     "output_type": "display_data"
    }
   ],
   "source": [
    "from vpython import rate, gcurve, graph, canvas, color\n",
    "#https://vpython.org"
   ]
  },
  {
   "cell_type": "code",
   "execution_count": 25,
   "id": "f1675eca",
   "metadata": {},
   "outputs": [
    {
     "data": {
      "text/html": [
       "<div id=\"glowscript\" class=\"glowscript\"></div>"
      ],
      "text/plain": [
       "<IPython.core.display.HTML object>"
      ]
     },
     "metadata": {},
     "output_type": "display_data"
    },
    {
     "data": {
      "application/javascript": [
       "if (typeof Jupyter !== \"undefined\") { window.__context = { glowscript_container: $(\"#glowscript\").removeAttr(\"id\")};}else{ element.textContent = ' ';}"
      ],
      "text/plain": [
       "<IPython.core.display.Javascript object>"
      ]
     },
     "metadata": {},
     "output_type": "display_data"
    }
   ],
   "source": [
    "#plt.plot(x,0.003*V)\n",
    "scene = canvas()\n",
    "g1 = graph(xtitle=\"x\",ytitle=\"stuff\",width=500, height=250)\n",
    "f1 = gcurve(color=color.blue)\n",
    "fV = gcurve(color=color.red)\n",
    "\n",
    "for i in range(len(V)):\n",
    "    fV.plot(x[i],0.003*V[i])\n",
    "\n",
    "c = 0*Psi0\n",
    "for i in range(len(c)):\n",
    "    c[i] = np.sum(np.conj(psi[i])*Psi0*dx)\n",
    "\n",
    "t = 0\n",
    "dt = 0.001\n",
    "while t<0.5:\n",
    "    rate(20)\n",
    "    Psi = 0*psi[0]\n",
    "    fdata = []\n",
    "    for i in range(len(c)):\n",
    "        Psi = Psi + c[i]*psi[i]*np.exp(-1j*E[i]*t/hbar)\n",
    "    for i in range(len(Psi)):\n",
    "        fdata = fdata +[[x[i],np.abs(Psi[i])]]\n",
    "    f1.data = fdata\n",
    "    t = t + dt \n",
    "    \n"
   ]
  },
  {
   "cell_type": "code",
   "execution_count": null,
   "id": "7f13ba49",
   "metadata": {},
   "outputs": [],
   "source": []
  }
 ],
 "metadata": {
  "kernelspec": {
   "display_name": "Python 3",
   "language": "python",
   "name": "python3"
  },
  "language_info": {
   "codemirror_mode": {
    "name": "ipython",
    "version": 3
   },
   "file_extension": ".py",
   "mimetype": "text/x-python",
   "name": "python",
   "nbconvert_exporter": "python",
   "pygments_lexer": "ipython3",
   "version": "3.8.8"
  }
 },
 "nbformat": 4,
 "nbformat_minor": 5
}
